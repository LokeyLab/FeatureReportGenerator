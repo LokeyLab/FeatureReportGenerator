{
 "cells": [
  {
   "cell_type": "code",
   "execution_count": 1,
   "metadata": {},
   "outputs": [],
   "source": [
    "import pandas as pd, numpy as np"
   ]
  },
  {
   "cell_type": "markdown",
   "metadata": {},
   "source": [
    "# We will be using this notebook for test verification"
   ]
  },
  {
   "cell_type": "code",
   "execution_count": null,
   "metadata": {},
   "outputs": [],
   "source": [
    "def corrDist(compSig, refArray):\n",
    "    def cor(u,v, centered=True): # ripped from scipy.spatial.distances\n",
    "        if centered:\n",
    "            umu = np.average(u)\n",
    "            vmu = np.average(v)\n",
    "            u = u - umu\n",
    "            v = v - vmu\n",
    "        uv = np.average(u*v)\n",
    "        uu = np.average(np.square(u))\n",
    "        vv = np.average(np.square(v))\n",
    "        dist = 1 - uv / np.sqrt(uu*vv)\n",
    "        return np.abs(dist)\n",
    "\n",
    "    num_ref_sigs = refArray.shape[0]\n",
    "    return_dists = np.empty(num_ref_sigs)\n",
    "    \n",
    "    for i in range(num_ref_sigs):\n",
    "        x = refArray[i]\n",
    "        return_dists[i] = cor(compSig, x)\n",
    "    \n",
    "    return return_dists\n",
    "\n",
    "compSig = np.array([1,2,3,4,5,6,7,8,9,10])\n",
    "\n",
    "refArray = {\n",
    "    \"col1\": [1,2,3,4,5,6,7,8,9,10],\n",
    "    \"col2\": [1,2,3,4,5,6,7,8,9,10]\n",
    "}\n",
    "refArray = pd.DataFrame(refArray).to_numpy()\n",
    "# print(refArray[1])\n",
    "corrDist(compSig=compSig, refArray=refArray)"
   ]
  },
  {
   "cell_type": "code",
   "execution_count": 3,
   "metadata": {},
   "outputs": [
    {
     "data": {
      "text/plain": [
       "array([[1, 4, 7],\n",
       "       [2, 5, 8],\n",
       "       [3, 6, 9]])"
      ]
     },
     "execution_count": 3,
     "metadata": {},
     "output_type": "execute_result"
    }
   ],
   "source": [
    "df = {\n",
    "    \"A\": [1,2,3],\n",
    "    \"B\": [4,5,6],\n",
    "    \"C\": [7,8,9]\n",
    "}\n",
    "df = pd.DataFrame(df).to_numpy()\n",
    "df"
   ]
  }
 ],
 "metadata": {
  "kernelspec": {
   "display_name": "histdiff",
   "language": "python",
   "name": "python3"
  },
  "language_info": {
   "codemirror_mode": {
    "name": "ipython",
    "version": 3
   },
   "file_extension": ".py",
   "mimetype": "text/x-python",
   "name": "python",
   "nbconvert_exporter": "python",
   "pygments_lexer": "ipython3",
   "version": "3.11.5"
  }
 },
 "nbformat": 4,
 "nbformat_minor": 2
}
