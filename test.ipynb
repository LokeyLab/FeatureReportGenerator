{
 "cells": [
  {
   "cell_type": "code",
   "execution_count": 3,
   "metadata": {},
   "outputs": [],
   "source": [
    "import pandas as pd, numpy as np"
   ]
  },
  {
   "cell_type": "markdown",
   "metadata": {},
   "source": [
    "# We will be using this notebook for test verification"
   ]
  },
  {
   "cell_type": "code",
   "execution_count": 2,
   "metadata": {},
   "outputs": [
    {
     "ename": "NameError",
     "evalue": "name 'np' is not defined",
     "output_type": "error",
     "traceback": [
      "\u001b[0;31m---------------------------------------------------------------------------\u001b[0m",
      "\u001b[0;31mNameError\u001b[0m                                 Traceback (most recent call last)",
      "Cell \u001b[0;32mIn[2], line 23\u001b[0m\n\u001b[1;32m     19\u001b[0m         return_dists[i] \u001b[38;5;241m=\u001b[39m cor(compSig, x)\n\u001b[1;32m     21\u001b[0m     \u001b[38;5;28;01mreturn\u001b[39;00m return_dists\n\u001b[0;32m---> 23\u001b[0m compSig \u001b[38;5;241m=\u001b[39m \u001b[43mnp\u001b[49m\u001b[38;5;241m.\u001b[39marray([\u001b[38;5;241m1\u001b[39m,\u001b[38;5;241m2\u001b[39m,\u001b[38;5;241m3\u001b[39m,\u001b[38;5;241m4\u001b[39m,\u001b[38;5;241m5\u001b[39m,\u001b[38;5;241m6\u001b[39m,\u001b[38;5;241m7\u001b[39m,\u001b[38;5;241m8\u001b[39m,\u001b[38;5;241m9\u001b[39m,\u001b[38;5;241m10\u001b[39m])\n\u001b[1;32m     25\u001b[0m refArray \u001b[38;5;241m=\u001b[39m {\n\u001b[1;32m     26\u001b[0m     \u001b[38;5;124m\"\u001b[39m\u001b[38;5;124mcol1\u001b[39m\u001b[38;5;124m\"\u001b[39m: [\u001b[38;5;241m1\u001b[39m,\u001b[38;5;241m2\u001b[39m,\u001b[38;5;241m3\u001b[39m,\u001b[38;5;241m4\u001b[39m,\u001b[38;5;241m5\u001b[39m,\u001b[38;5;241m6\u001b[39m,\u001b[38;5;241m7\u001b[39m,\u001b[38;5;241m8\u001b[39m,\u001b[38;5;241m9\u001b[39m,\u001b[38;5;241m10\u001b[39m],\n\u001b[1;32m     27\u001b[0m     \u001b[38;5;124m\"\u001b[39m\u001b[38;5;124mcol2\u001b[39m\u001b[38;5;124m\"\u001b[39m: [\u001b[38;5;241m1\u001b[39m,\u001b[38;5;241m2\u001b[39m,\u001b[38;5;241m3\u001b[39m,\u001b[38;5;241m4\u001b[39m,\u001b[38;5;241m5\u001b[39m,\u001b[38;5;241m6\u001b[39m,\u001b[38;5;241m7\u001b[39m,\u001b[38;5;241m8\u001b[39m,\u001b[38;5;241m9\u001b[39m,\u001b[38;5;241m10\u001b[39m]\n\u001b[1;32m     28\u001b[0m }\n\u001b[1;32m     29\u001b[0m refArray \u001b[38;5;241m=\u001b[39m pd\u001b[38;5;241m.\u001b[39mDataFrame(refArray)\u001b[38;5;241m.\u001b[39mto_numpy()\n",
      "\u001b[0;31mNameError\u001b[0m: name 'np' is not defined"
     ]
    }
   ],
   "source": [
    "def corrDist(compSig, refArray):\n",
    "    def cor(u,v, centered=True): # ripped from scipy.spatial.distances\n",
    "        if centered:\n",
    "            umu = np.average(u)\n",
    "            vmu = np.average(v)\n",
    "            u = u - umu\n",
    "            v = v - vmu\n",
    "        uv = np.average(u*v)\n",
    "        uu = np.average(np.square(u))\n",
    "        vv = np.average(np.square(v))\n",
    "        dist = 1 - uv / np.sqrt(uu*vv)\n",
    "        return np.abs(dist)\n",
    "\n",
    "    num_ref_sigs = refArray.shape[0]\n",
    "    return_dists = np.empty(num_ref_sigs)\n",
    "    \n",
    "    for i in range(num_ref_sigs):\n",
    "        x = refArray[i]\n",
    "        return_dists[i] = cor(compSig, x)\n",
    "    \n",
    "    return return_dists\n",
    "\n",
    "compSig = np.array([1,2,3,4,5,6,7,8,9,10])\n",
    "\n",
    "refArray = {\n",
    "    \"col1\": [1,2,3,4,5,6,7,8,9,10],\n",
    "    \"col2\": [1,2,3,4,5,6,7,8,9,10]\n",
    "}\n",
    "refArray = pd.DataFrame(refArray).to_numpy()\n",
    "# print(refArray[1])\n",
    "corrDist(compSig=compSig, refArray=refArray)"
   ]
  },
  {
   "cell_type": "code",
   "execution_count": 3,
   "metadata": {},
   "outputs": [
    {
     "data": {
      "text/plain": [
       "array([[1, 4, 7],\n",
       "       [2, 5, 8],\n",
       "       [3, 6, 9]])"
      ]
     },
     "execution_count": 3,
     "metadata": {},
     "output_type": "execute_result"
    }
   ],
   "source": [
    "df = {\n",
    "    \"A\": [1,2,3],\n",
    "    \"B\": [4,5,6],\n",
    "    \"C\": [7,8,9]\n",
    "}\n",
    "df = pd.DataFrame(df).to_numpy()\n",
    "df"
   ]
  },
  {
   "cell_type": "code",
   "execution_count": 4,
   "metadata": {},
   "outputs": [
    {
     "name": "stdout",
     "output_type": "stream",
     "text": [
      "98\n",
      "SUMMARY 7\n",
      "\"food_10uM._.A01._.TargetMol_1 30\n",
      "\"Loxoprofen_10uM._.A02._.Targe 30\n",
      "\"Defactinib_10uM._.A03._.Targe 30\n",
      "\"Bucetin_10uM._.A04._.TargetMo 30\n",
      "\"ML-7 hydrochloride_10uM._.A05 30\n",
      "\"Cinromide_10uM._.A06._.Target 30\n",
      "\"Itopride hydrochloride_10uM._ 30\n",
      "\"Amodiaquine hydrochloride_10u 30\n",
      "\"Almotriptan Malate_10uM._.A09 30\n",
      "\"AMG-900_10uM._.A10._.TargetMo 30\n",
      "\"TCS7004_10uM._.A11._.TargetMo 30\n",
      "\"Salicoside_10uM._.A12._.Targe 30\n",
      "\"THEAFLAVINE-3-GALLATE_10uM._. 30\n",
      "\"DMSO_10uM._.A14._.TargetMol_1 30\n",
      "\"SC202671_10uM._.A15._.TargetM 30\n",
      "\"Hydroxyquinoline_10uM._.A16._ 30\n",
      "\"Aristolochic Acid_10uM._.A17. 30\n",
      "\"Moxisylyte hydrochloride_10uM 30\n",
      "\"BIBR 1532_10uM._.A19._.Target 30\n",
      "\"DMSO_10uM._.A20._.TargetMol_1 30\n",
      "\"Tenovin-1_10uM._.A21._.Target 30\n",
      "\"Florfenicol_10uM._.A22._.Targ 30\n",
      "\"CL387785_10uM._.A23._.TargetM 30\n",
      "\"Artesunate_10uM._.A24._.Targe 30\n",
      "\"Carbetapentane citrate_10uM._ 30\n",
      "\"Cefdinir_10uM._.B02._.TargetM 30\n",
      "\"DMSO_10uM._.B03._.TargetMol_1 30\n",
      "\"Meclocycline sulfosalicylate  30\n",
      "\"Mirtazapine_10uM._.B05._.Targ 30\n",
      "\"Lactitol monohydrate_10uM._.B 30\n",
      "\"Cefpiramide acid_10uM._.B07._ 30\n",
      "\"Triflupromazine hydrochloride 30\n",
      "\"DMSO_10uM._.B09._.TargetMol_1 30\n",
      "\"NVS-PAK1-1_10uM._.B10._.Targe 30\n",
      "\"Dexamethasone_10uM._.B11._.Ta 30\n",
      "\"Methylthiouracil_10uM._.B12._ 30\n",
      "\"Nebivolol hydrochloride_10uM. 30\n",
      "\"Ipriflavone_10uM._.B14._.Targ 30\n",
      "\"Rocuronium bromide_10uM._.B15 30\n",
      "\"Hexylresorcinol_10uM._.B16._. 30\n",
      "\"Roxatidine Acetate hydrochlor 30\n",
      "\"Acedoben_10uM._.B18._.TargetM 30\n",
      "\"Pranoprofen_10uM._.B19._.Targ 30\n",
      "\"Undecenoic acid_10uM._.B20._. 30\n",
      "\"Anagrelide_10uM._.B21._.Targe 30\n",
      "\"Citiolone_10uM._.B22._.Target 30\n",
      "\"(+_-)-Bisoprolol hemifumarate 30\n",
      "\"Orbifloxacin_10uM._.B24._.Tar 30\n",
      "\"Vagistat_10uM._.C01._.TargetM 30\n",
      "\"Fenspiride hydrochloride_10uM 30\n",
      "\"CaMKP Inhibitor_10uM._.C03._. 30\n",
      "\"Econazole_10uM._.C04._.Target 30\n",
      "\"EVP-6124 hydrochloride_10uM._ 30\n",
      "\"Flopropione_10uM._.C06._.Targ 30\n",
      "\"Daurisoline_10uM._.C07._.Targ 30\n",
      "\"Pyrantel tartrate_10uM._.C08. 30\n",
      "\"Brassinolide_10uM._.C09._.Tar 30\n",
      "\"Alrestatin_10uM._.C10._.Targe 30\n",
      "\"LY2109761_10uM._.C11._.Target 30\n",
      "\"Thioridazine hydrochloride_10 30\n",
      "\"Apoptosis Activator 2_10uM._. 30\n",
      "\"PMA_10uM._.C14._.TargetMol_10 30\n",
      "\"Benzyl alcohol_10uM._.C15._.T 30\n",
      "\"Promethazine_10uM._.C16._.Tar 30\n",
      "\"DMSO_10uM._.C17._.TargetMol_1 30\n",
      "\"Sulfinpyrazone_10uM._.C18._.T 30\n",
      "\"Resorcin monoacetate_10uM._.C 30\n",
      "\"Pefloxacin Mesylate_10uM._.C2 30\n",
      "\"Edetol_10uM._.C21._.TargetMol 30\n",
      "\"Pipemidic acid_10uM._.C22._.T 30\n",
      "\"DMSO_10uM._.C23._.TargetMol_1 30\n",
      "\"Cedryl acetate_10uM._.C24._.T 30\n",
      "\"Ellagic acid_10uM._.D01._.Tar 30\n",
      "\"Roniacol_10uM._.D02._.TargetM 30\n",
      "\"Nisoldipine_10uM._.D03._.Targ 30\n",
      "\"Ataractan_10uM._.D04._.Target 30\n",
      "\"Urapidil_10uM._.D05._.TargetM 30\n",
      "\"DMSO_10uM._.D06._.TargetMol_1 30\n",
      "\"Pancuronium bromide_10uM._.D0 30\n",
      "\"Colchicine_10uM._.D08._.Targe 30\n",
      "\"Nefiracetam_10uM._.D09._.Targ 30\n",
      "\"Daporinad_10uM._.D10._.Target 30\n",
      "\"Quinidine_10uM._.D11._.Target 30\n",
      "\"DMSO_10uM._.D12._.TargetMol_1 30\n",
      "\"Nylidrin hydrochloride_10uM._ 30\n",
      "\"Oxantel Pamoate_10uM._.D14._. 30\n",
      "\"Amiloride hydrochloride_10uM. 30\n",
      "\"Isoxsuprine hydrochloride_10u 30\n",
      "\"Isobarbaloin_10uM._.D17._.Tar 30\n",
      "\"Buflomedil hydrochloride_10uM 30\n",
      "\"Homatropine Bromide_10uM._.D1 30\n",
      "\"Diperodon hydrochloride_10uM. 30\n",
      "\"Saxagliptin hydrate_10uM._.D2 30\n",
      "\"Diphenhydramine hydrochloride 30\n",
      "\"Suxibuzone_10uM._.D23._.Targe 30\n",
      "\"Indoprofen_10uM._.D24._.Targe 30\n",
      "\"DMSO_10uM._.E01._.TargetMol_1 30\n"
     ]
    }
   ],
   "source": [
    "xlsx = pd.ExcelFile(\"test.xlsx\")\n",
    "print(len(xlsx.sheet_names))\n",
    "\n",
    "for sheet in xlsx.sheet_names:\n",
    "    print(sheet, len(sheet))"
   ]
  }
 ],
 "metadata": {
  "kernelspec": {
   "display_name": "histdiff",
   "language": "python",
   "name": "python3"
  },
  "language_info": {
   "codemirror_mode": {
    "name": "ipython",
    "version": 3
   },
   "file_extension": ".py",
   "mimetype": "text/x-python",
   "name": "python",
   "nbconvert_exporter": "python",
   "pygments_lexer": "ipython3",
   "version": "3.11.5"
  }
 },
 "nbformat": 4,
 "nbformat_minor": 2
}
